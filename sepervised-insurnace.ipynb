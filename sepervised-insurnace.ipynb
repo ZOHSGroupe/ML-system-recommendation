{
 "cells": [
  {
   "cell_type": "markdown",
   "id": "09dcf1d1-b1b1-4f53-85c1-f11eb26595bf",
   "metadata": {},
   "source": [
    "# This completes the unsupervised-insurance.ipynb file"
   ]
  },
  {
   "cell_type": "code",
   "execution_count": 1,
   "id": "49531090-7ebe-49c0-948a-93f43055dd42",
   "metadata": {},
   "outputs": [],
   "source": [
    "import numpy as np\n",
    "import pandas as pd"
   ]
  },
  {
   "cell_type": "markdown",
   "id": "aef4e2fa-dd26-495e-8d18-6253e696ce43",
   "metadata": {},
   "source": [
    "# Importing Data"
   ]
  },
  {
   "cell_type": "code",
   "execution_count": 3,
   "id": "b18d7fd0-4439-4eeb-8f1d-a4ec5a0dc704",
   "metadata": {},
   "outputs": [
    {
     "data": {
      "text/html": [
       "<div>\n",
       "<style scoped>\n",
       "    .dataframe tbody tr th:only-of-type {\n",
       "        vertical-align: middle;\n",
       "    }\n",
       "\n",
       "    .dataframe tbody tr th {\n",
       "        vertical-align: top;\n",
       "    }\n",
       "\n",
       "    .dataframe thead th {\n",
       "        text-align: right;\n",
       "    }\n",
       "</style>\n",
       "<table border=\"1\" class=\"dataframe\">\n",
       "  <thead>\n",
       "    <tr style=\"text-align: right;\">\n",
       "      <th></th>\n",
       "      <th>Seniority</th>\n",
       "      <th>Power</th>\n",
       "      <th>Cylinder_capacity</th>\n",
       "      <th>Value_vehicle</th>\n",
       "      <th>N_doors</th>\n",
       "      <th>Type_fuel</th>\n",
       "      <th>Weight</th>\n",
       "      <th>Cluster</th>\n",
       "    </tr>\n",
       "  </thead>\n",
       "  <tbody>\n",
       "    <tr>\n",
       "      <th>0</th>\n",
       "      <td>4</td>\n",
       "      <td>80</td>\n",
       "      <td>599</td>\n",
       "      <td>7068.00</td>\n",
       "      <td>0</td>\n",
       "      <td>1</td>\n",
       "      <td>190</td>\n",
       "      <td>0</td>\n",
       "    </tr>\n",
       "    <tr>\n",
       "      <th>1</th>\n",
       "      <td>15</td>\n",
       "      <td>85</td>\n",
       "      <td>1229</td>\n",
       "      <td>16030.00</td>\n",
       "      <td>5</td>\n",
       "      <td>1</td>\n",
       "      <td>1105</td>\n",
       "      <td>2</td>\n",
       "    </tr>\n",
       "    <tr>\n",
       "      <th>2</th>\n",
       "      <td>3</td>\n",
       "      <td>6</td>\n",
       "      <td>74</td>\n",
       "      <td>1261.82</td>\n",
       "      <td>0</td>\n",
       "      <td>1</td>\n",
       "      <td>87</td>\n",
       "      <td>0</td>\n",
       "    </tr>\n",
       "    <tr>\n",
       "      <th>3</th>\n",
       "      <td>3</td>\n",
       "      <td>6</td>\n",
       "      <td>244</td>\n",
       "      <td>3000.00</td>\n",
       "      <td>0</td>\n",
       "      <td>1</td>\n",
       "      <td>92</td>\n",
       "      <td>0</td>\n",
       "    </tr>\n",
       "    <tr>\n",
       "      <th>4</th>\n",
       "      <td>13</td>\n",
       "      <td>87</td>\n",
       "      <td>1598</td>\n",
       "      <td>9927.00</td>\n",
       "      <td>4</td>\n",
       "      <td>1</td>\n",
       "      <td>1055</td>\n",
       "      <td>2</td>\n",
       "    </tr>\n",
       "  </tbody>\n",
       "</table>\n",
       "</div>"
      ],
      "text/plain": [
       "   Seniority  Power  Cylinder_capacity  Value_vehicle  N_doors  Type_fuel  \\\n",
       "0          4     80                599        7068.00        0          1   \n",
       "1         15     85               1229       16030.00        5          1   \n",
       "2          3      6                 74        1261.82        0          1   \n",
       "3          3      6                244        3000.00        0          1   \n",
       "4         13     87               1598        9927.00        4          1   \n",
       "\n",
       "   Weight  Cluster  \n",
       "0     190        0  \n",
       "1    1105        2  \n",
       "2      87        0  \n",
       "3      92        0  \n",
       "4    1055        2  "
      ]
     },
     "execution_count": 3,
     "metadata": {},
     "output_type": "execute_result"
    }
   ],
   "source": [
    "insurance = pd.read_csv('supervised-lerning-data-insurance.csv')\n",
    "insurance.head()"
   ]
  },
  {
   "cell_type": "markdown",
   "id": "d5ed5f1a-d98f-4b11-a476-9b0510677ac2",
   "metadata": {},
   "source": [
    "# Data Information¶"
   ]
  },
  {
   "cell_type": "code",
   "execution_count": 4,
   "id": "7ff8df89-f218-4c73-9c79-a4beb4d8fe35",
   "metadata": {},
   "outputs": [
    {
     "data": {
      "text/plain": [
       "(39802, 8)"
      ]
     },
     "execution_count": 4,
     "metadata": {},
     "output_type": "execute_result"
    }
   ],
   "source": [
    "insurance.shape"
   ]
  },
  {
   "cell_type": "code",
   "execution_count": 5,
   "id": "aecacf14-bd37-4a55-b3b8-4d15d010cf59",
   "metadata": {},
   "outputs": [
    {
     "name": "stdout",
     "output_type": "stream",
     "text": [
      "<class 'pandas.core.frame.DataFrame'>\n",
      "RangeIndex: 39802 entries, 0 to 39801\n",
      "Data columns (total 8 columns):\n",
      " #   Column             Non-Null Count  Dtype  \n",
      "---  ------             --------------  -----  \n",
      " 0   Seniority          39802 non-null  int64  \n",
      " 1   Power              39802 non-null  int64  \n",
      " 2   Cylinder_capacity  39802 non-null  int64  \n",
      " 3   Value_vehicle      39802 non-null  float64\n",
      " 4   N_doors            39802 non-null  int64  \n",
      " 5   Type_fuel          39802 non-null  int64  \n",
      " 6   Weight             39802 non-null  int64  \n",
      " 7   Cluster            39802 non-null  int64  \n",
      "dtypes: float64(1), int64(7)\n",
      "memory usage: 2.4 MB\n"
     ]
    }
   ],
   "source": [
    "insurance.info()"
   ]
  },
  {
   "cell_type": "code",
   "execution_count": 6,
   "id": "fb6b6070-c911-4f46-a6b4-e7a7dfdedfc0",
   "metadata": {},
   "outputs": [
    {
     "data": {
      "text/plain": [
       "Seniority            0\n",
       "Power                0\n",
       "Cylinder_capacity    0\n",
       "Value_vehicle        0\n",
       "N_doors              0\n",
       "Type_fuel            0\n",
       "Weight               0\n",
       "Cluster              0\n",
       "dtype: int64"
      ]
     },
     "execution_count": 6,
     "metadata": {},
     "output_type": "execute_result"
    }
   ],
   "source": [
    "insurance.isnull().sum()"
   ]
  },
  {
   "cell_type": "code",
   "execution_count": 7,
   "id": "a37e6854-b8bb-49c4-a0b3-b91394e9f245",
   "metadata": {},
   "outputs": [
    {
     "data": {
      "text/plain": [
       "0"
      ]
     },
     "execution_count": 7,
     "metadata": {},
     "output_type": "execute_result"
    }
   ],
   "source": [
    "insurance.duplicated().sum()"
   ]
  },
  {
   "cell_type": "code",
   "execution_count": 8,
   "id": "a09550aa-2187-4bc3-8c79-533e69b0da32",
   "metadata": {},
   "outputs": [
    {
     "data": {
      "text/html": [
       "<div>\n",
       "<style scoped>\n",
       "    .dataframe tbody tr th:only-of-type {\n",
       "        vertical-align: middle;\n",
       "    }\n",
       "\n",
       "    .dataframe tbody tr th {\n",
       "        vertical-align: top;\n",
       "    }\n",
       "\n",
       "    .dataframe thead th {\n",
       "        text-align: right;\n",
       "    }\n",
       "</style>\n",
       "<table border=\"1\" class=\"dataframe\">\n",
       "  <thead>\n",
       "    <tr style=\"text-align: right;\">\n",
       "      <th></th>\n",
       "      <th>Seniority</th>\n",
       "      <th>Power</th>\n",
       "      <th>Cylinder_capacity</th>\n",
       "      <th>Value_vehicle</th>\n",
       "      <th>N_doors</th>\n",
       "      <th>Type_fuel</th>\n",
       "      <th>Weight</th>\n",
       "      <th>Cluster</th>\n",
       "    </tr>\n",
       "  </thead>\n",
       "  <tbody>\n",
       "    <tr>\n",
       "      <th>count</th>\n",
       "      <td>39802.000000</td>\n",
       "      <td>39802.000000</td>\n",
       "      <td>39802.000000</td>\n",
       "      <td>39802.000000</td>\n",
       "      <td>39802.000000</td>\n",
       "      <td>39802.000000</td>\n",
       "      <td>39802.000000</td>\n",
       "      <td>39802.000000</td>\n",
       "    </tr>\n",
       "    <tr>\n",
       "      <th>mean</th>\n",
       "      <td>6.394352</td>\n",
       "      <td>96.445631</td>\n",
       "      <td>1647.587935</td>\n",
       "      <td>19223.823407</td>\n",
       "      <td>4.114416</td>\n",
       "      <td>1.614693</td>\n",
       "      <td>1218.554344</td>\n",
       "      <td>1.595699</td>\n",
       "    </tr>\n",
       "    <tr>\n",
       "      <th>std</th>\n",
       "      <td>6.269033</td>\n",
       "      <td>36.841635</td>\n",
       "      <td>582.633198</td>\n",
       "      <td>9594.815367</td>\n",
       "      <td>1.421487</td>\n",
       "      <td>0.486674</td>\n",
       "      <td>424.344352</td>\n",
       "      <td>0.612426</td>\n",
       "    </tr>\n",
       "    <tr>\n",
       "      <th>min</th>\n",
       "      <td>1.000000</td>\n",
       "      <td>4.000000</td>\n",
       "      <td>49.000000</td>\n",
       "      <td>270.460000</td>\n",
       "      <td>0.000000</td>\n",
       "      <td>1.000000</td>\n",
       "      <td>50.000000</td>\n",
       "      <td>0.000000</td>\n",
       "    </tr>\n",
       "    <tr>\n",
       "      <th>25%</th>\n",
       "      <td>2.000000</td>\n",
       "      <td>75.000000</td>\n",
       "      <td>1390.000000</td>\n",
       "      <td>13540.810000</td>\n",
       "      <td>3.000000</td>\n",
       "      <td>1.000000</td>\n",
       "      <td>1060.000000</td>\n",
       "      <td>1.000000</td>\n",
       "    </tr>\n",
       "    <tr>\n",
       "      <th>50%</th>\n",
       "      <td>4.000000</td>\n",
       "      <td>95.000000</td>\n",
       "      <td>1598.000000</td>\n",
       "      <td>18194.000000</td>\n",
       "      <td>5.000000</td>\n",
       "      <td>2.000000</td>\n",
       "      <td>1228.000000</td>\n",
       "      <td>2.000000</td>\n",
       "    </tr>\n",
       "    <tr>\n",
       "      <th>75%</th>\n",
       "      <td>8.000000</td>\n",
       "      <td>115.000000</td>\n",
       "      <td>1968.000000</td>\n",
       "      <td>23474.150000</td>\n",
       "      <td>5.000000</td>\n",
       "      <td>2.000000</td>\n",
       "      <td>1410.000000</td>\n",
       "      <td>2.000000</td>\n",
       "    </tr>\n",
       "    <tr>\n",
       "      <th>max</th>\n",
       "      <td>40.000000</td>\n",
       "      <td>580.000000</td>\n",
       "      <td>7480.000000</td>\n",
       "      <td>220675.800000</td>\n",
       "      <td>6.000000</td>\n",
       "      <td>2.000000</td>\n",
       "      <td>7300.000000</td>\n",
       "      <td>2.000000</td>\n",
       "    </tr>\n",
       "  </tbody>\n",
       "</table>\n",
       "</div>"
      ],
      "text/plain": [
       "          Seniority         Power  Cylinder_capacity  Value_vehicle  \\\n",
       "count  39802.000000  39802.000000       39802.000000   39802.000000   \n",
       "mean       6.394352     96.445631        1647.587935   19223.823407   \n",
       "std        6.269033     36.841635         582.633198    9594.815367   \n",
       "min        1.000000      4.000000          49.000000     270.460000   \n",
       "25%        2.000000     75.000000        1390.000000   13540.810000   \n",
       "50%        4.000000     95.000000        1598.000000   18194.000000   \n",
       "75%        8.000000    115.000000        1968.000000   23474.150000   \n",
       "max       40.000000    580.000000        7480.000000  220675.800000   \n",
       "\n",
       "            N_doors     Type_fuel        Weight       Cluster  \n",
       "count  39802.000000  39802.000000  39802.000000  39802.000000  \n",
       "mean       4.114416      1.614693   1218.554344      1.595699  \n",
       "std        1.421487      0.486674    424.344352      0.612426  \n",
       "min        0.000000      1.000000     50.000000      0.000000  \n",
       "25%        3.000000      1.000000   1060.000000      1.000000  \n",
       "50%        5.000000      2.000000   1228.000000      2.000000  \n",
       "75%        5.000000      2.000000   1410.000000      2.000000  \n",
       "max        6.000000      2.000000   7300.000000      2.000000  "
      ]
     },
     "execution_count": 8,
     "metadata": {},
     "output_type": "execute_result"
    }
   ],
   "source": [
    "insurance.describe()"
   ]
  },
  {
   "cell_type": "markdown",
   "id": "84659dd1-f135-4324-9d79-ef20a81fb0dd",
   "metadata": {},
   "source": [
    "# Unbalanced data procissing"
   ]
  },
  {
   "cell_type": "code",
   "execution_count": 13,
   "id": "7aef161c-7445-4bd6-aeed-0d9403f4c1b7",
   "metadata": {},
   "outputs": [],
   "source": [
    "from sklearn.utils import resample"
   ]
  },
  {
   "cell_type": "code",
   "execution_count": 14,
   "id": "d8ee6737-e5f0-4e1f-ae90-7376d95a5689",
   "metadata": {},
   "outputs": [
    {
     "data": {
      "text/plain": [
       "Cluster\n",
       "2    26381\n",
       "1    10750\n",
       "0     2671\n",
       "Name: count, dtype: int64"
      ]
     },
     "execution_count": 14,
     "metadata": {},
     "output_type": "execute_result"
    }
   ],
   "source": [
    "insurance['Cluster'].value_counts()"
   ]
  },
  {
   "cell_type": "code",
   "execution_count": 15,
   "id": "15743519-a0b3-425a-980b-ebc65027aaca",
   "metadata": {},
   "outputs": [],
   "source": [
    "# Identifier le nombre minimum d'observations par cluster\n",
    "min_observation_count = insurance['Cluster'].value_counts().min()"
   ]
  },
  {
   "cell_type": "code",
   "execution_count": 17,
   "id": "5abf9d42-af1a-4e34-96dd-d4239336a280",
   "metadata": {},
   "outputs": [
    {
     "name": "stdout",
     "output_type": "stream",
     "text": [
      "Cluster\n",
      "0    2671\n",
      "1    2671\n",
      "2    2671\n",
      "Name: count, dtype: int64\n"
     ]
    }
   ],
   "source": [
    "# Créer une liste pour stocker les DataFrames équilibrés\n",
    "balanced_dfs = []\n",
    "\n",
    "# Boucler sur chaque cluster\n",
    "for cluster_label, group in insurance.groupby('Cluster'):\n",
    "    # Sous-échantillonner le cluster pour atteindre le nombre minimum d'observations\n",
    "    balanced_cluster = resample(group, replace=False, n_samples=min_observation_count, random_state=42)\n",
    "    \n",
    "    # Ajouter le cluster équilibré à la liste\n",
    "    balanced_dfs.append(balanced_cluster)\n",
    "\n",
    "# Concaténer les DataFrames équilibrés pour créer un DataFrame équilibré\n",
    "balanced_insurance = pd.concat(balanced_dfs, ignore_index=True)\n",
    "\n",
    "# Afficher la distribution des clusters dans le nouveau DataFrame\n",
    "print(balanced_insurance['Cluster'].value_counts())"
   ]
  },
  {
   "cell_type": "code",
   "execution_count": 25,
   "id": "4b9e00ee-ca27-4978-b7e9-0cee037a3d7b",
   "metadata": {},
   "outputs": [
    {
     "data": {
      "text/html": [
       "<div>\n",
       "<style scoped>\n",
       "    .dataframe tbody tr th:only-of-type {\n",
       "        vertical-align: middle;\n",
       "    }\n",
       "\n",
       "    .dataframe tbody tr th {\n",
       "        vertical-align: top;\n",
       "    }\n",
       "\n",
       "    .dataframe thead th {\n",
       "        text-align: right;\n",
       "    }\n",
       "</style>\n",
       "<table border=\"1\" class=\"dataframe\">\n",
       "  <thead>\n",
       "    <tr style=\"text-align: right;\">\n",
       "      <th></th>\n",
       "      <th>Seniority</th>\n",
       "      <th>Power</th>\n",
       "      <th>Cylinder_capacity</th>\n",
       "      <th>Value_vehicle</th>\n",
       "      <th>N_doors</th>\n",
       "      <th>Type_fuel</th>\n",
       "      <th>Weight</th>\n",
       "      <th>Cluster</th>\n",
       "    </tr>\n",
       "  </thead>\n",
       "  <tbody>\n",
       "    <tr>\n",
       "      <th>0</th>\n",
       "      <td>5</td>\n",
       "      <td>39</td>\n",
       "      <td>296</td>\n",
       "      <td>5999.00</td>\n",
       "      <td>0</td>\n",
       "      <td>1</td>\n",
       "      <td>174</td>\n",
       "      <td>0</td>\n",
       "    </tr>\n",
       "    <tr>\n",
       "      <th>1</th>\n",
       "      <td>11</td>\n",
       "      <td>27</td>\n",
       "      <td>249</td>\n",
       "      <td>3880.00</td>\n",
       "      <td>0</td>\n",
       "      <td>1</td>\n",
       "      <td>190</td>\n",
       "      <td>0</td>\n",
       "    </tr>\n",
       "    <tr>\n",
       "      <th>2</th>\n",
       "      <td>4</td>\n",
       "      <td>11</td>\n",
       "      <td>125</td>\n",
       "      <td>2930.00</td>\n",
       "      <td>0</td>\n",
       "      <td>1</td>\n",
       "      <td>116</td>\n",
       "      <td>0</td>\n",
       "    </tr>\n",
       "    <tr>\n",
       "      <th>3</th>\n",
       "      <td>2</td>\n",
       "      <td>53</td>\n",
       "      <td>510</td>\n",
       "      <td>8690.00</td>\n",
       "      <td>0</td>\n",
       "      <td>1</td>\n",
       "      <td>123</td>\n",
       "      <td>0</td>\n",
       "    </tr>\n",
       "    <tr>\n",
       "      <th>4</th>\n",
       "      <td>2</td>\n",
       "      <td>15</td>\n",
       "      <td>125</td>\n",
       "      <td>3099.00</td>\n",
       "      <td>0</td>\n",
       "      <td>1</td>\n",
       "      <td>172</td>\n",
       "      <td>0</td>\n",
       "    </tr>\n",
       "    <tr>\n",
       "      <th>...</th>\n",
       "      <td>...</td>\n",
       "      <td>...</td>\n",
       "      <td>...</td>\n",
       "      <td>...</td>\n",
       "      <td>...</td>\n",
       "      <td>...</td>\n",
       "      <td>...</td>\n",
       "      <td>...</td>\n",
       "    </tr>\n",
       "    <tr>\n",
       "      <th>8008</th>\n",
       "      <td>1</td>\n",
       "      <td>60</td>\n",
       "      <td>1124</td>\n",
       "      <td>10690.00</td>\n",
       "      <td>5</td>\n",
       "      <td>1</td>\n",
       "      <td>910</td>\n",
       "      <td>2</td>\n",
       "    </tr>\n",
       "    <tr>\n",
       "      <th>8009</th>\n",
       "      <td>3</td>\n",
       "      <td>80</td>\n",
       "      <td>1360</td>\n",
       "      <td>14510.00</td>\n",
       "      <td>5</td>\n",
       "      <td>2</td>\n",
       "      <td>1089</td>\n",
       "      <td>2</td>\n",
       "    </tr>\n",
       "    <tr>\n",
       "      <th>8010</th>\n",
       "      <td>8</td>\n",
       "      <td>70</td>\n",
       "      <td>1398</td>\n",
       "      <td>13580.00</td>\n",
       "      <td>5</td>\n",
       "      <td>2</td>\n",
       "      <td>1130</td>\n",
       "      <td>2</td>\n",
       "    </tr>\n",
       "    <tr>\n",
       "      <th>8011</th>\n",
       "      <td>2</td>\n",
       "      <td>90</td>\n",
       "      <td>1598</td>\n",
       "      <td>14965.20</td>\n",
       "      <td>5</td>\n",
       "      <td>1</td>\n",
       "      <td>1055</td>\n",
       "      <td>2</td>\n",
       "    </tr>\n",
       "    <tr>\n",
       "      <th>8012</th>\n",
       "      <td>3</td>\n",
       "      <td>60</td>\n",
       "      <td>1149</td>\n",
       "      <td>8594.47</td>\n",
       "      <td>3</td>\n",
       "      <td>1</td>\n",
       "      <td>820</td>\n",
       "      <td>2</td>\n",
       "    </tr>\n",
       "  </tbody>\n",
       "</table>\n",
       "<p>8013 rows × 8 columns</p>\n",
       "</div>"
      ],
      "text/plain": [
       "      Seniority  Power  Cylinder_capacity  Value_vehicle  N_doors  Type_fuel  \\\n",
       "0             5     39                296        5999.00        0          1   \n",
       "1            11     27                249        3880.00        0          1   \n",
       "2             4     11                125        2930.00        0          1   \n",
       "3             2     53                510        8690.00        0          1   \n",
       "4             2     15                125        3099.00        0          1   \n",
       "...         ...    ...                ...            ...      ...        ...   \n",
       "8008          1     60               1124       10690.00        5          1   \n",
       "8009          3     80               1360       14510.00        5          2   \n",
       "8010          8     70               1398       13580.00        5          2   \n",
       "8011          2     90               1598       14965.20        5          1   \n",
       "8012          3     60               1149        8594.47        3          1   \n",
       "\n",
       "      Weight  Cluster  \n",
       "0        174        0  \n",
       "1        190        0  \n",
       "2        116        0  \n",
       "3        123        0  \n",
       "4        172        0  \n",
       "...      ...      ...  \n",
       "8008     910        2  \n",
       "8009    1089        2  \n",
       "8010    1130        2  \n",
       "8011    1055        2  \n",
       "8012     820        2  \n",
       "\n",
       "[8013 rows x 8 columns]"
      ]
     },
     "execution_count": 25,
     "metadata": {},
     "output_type": "execute_result"
    }
   ],
   "source": [
    "balanced_insurance"
   ]
  },
  {
   "cell_type": "markdown",
   "id": "e9559124-41bd-46b4-9d4b-5eaf65079eda",
   "metadata": {},
   "source": [
    "#  new data resulte information and explring data"
   ]
  },
  {
   "cell_type": "markdown",
   "id": "56b744ab-4192-46f0-91f4-027cdde7d020",
   "metadata": {},
   "source": [
    "# data informaion"
   ]
  },
  {
   "cell_type": "code",
   "execution_count": 19,
   "id": "a1b918cd-6fff-42c1-b21f-e28e2047b9e7",
   "metadata": {},
   "outputs": [
    {
     "data": {
      "text/plain": [
       "(39802, 8)"
      ]
     },
     "execution_count": 19,
     "metadata": {},
     "output_type": "execute_result"
    }
   ],
   "source": [
    "insurance.shape"
   ]
  },
  {
   "cell_type": "code",
   "execution_count": 26,
   "id": "55796d37-12a5-41cf-8630-c2805531dc77",
   "metadata": {},
   "outputs": [
    {
     "name": "stdout",
     "output_type": "stream",
     "text": [
      "<class 'pandas.core.frame.DataFrame'>\n",
      "RangeIndex: 39802 entries, 0 to 39801\n",
      "Data columns (total 8 columns):\n",
      " #   Column             Non-Null Count  Dtype  \n",
      "---  ------             --------------  -----  \n",
      " 0   Seniority          39802 non-null  int64  \n",
      " 1   Power              39802 non-null  int64  \n",
      " 2   Cylinder_capacity  39802 non-null  int64  \n",
      " 3   Value_vehicle      39802 non-null  float64\n",
      " 4   N_doors            39802 non-null  int64  \n",
      " 5   Type_fuel          39802 non-null  int64  \n",
      " 6   Weight             39802 non-null  int64  \n",
      " 7   Cluster            39802 non-null  int64  \n",
      "dtypes: float64(1), int64(7)\n",
      "memory usage: 2.4 MB\n"
     ]
    }
   ],
   "source": [
    "insurance.info()"
   ]
  },
  {
   "cell_type": "code",
   "execution_count": 27,
   "id": "c355d41d-6453-48ab-ac36-8d4fc94d9473",
   "metadata": {},
   "outputs": [
    {
     "data": {
      "text/html": [
       "<div>\n",
       "<style scoped>\n",
       "    .dataframe tbody tr th:only-of-type {\n",
       "        vertical-align: middle;\n",
       "    }\n",
       "\n",
       "    .dataframe tbody tr th {\n",
       "        vertical-align: top;\n",
       "    }\n",
       "\n",
       "    .dataframe thead th {\n",
       "        text-align: right;\n",
       "    }\n",
       "</style>\n",
       "<table border=\"1\" class=\"dataframe\">\n",
       "  <thead>\n",
       "    <tr style=\"text-align: right;\">\n",
       "      <th></th>\n",
       "      <th>Seniority</th>\n",
       "      <th>Power</th>\n",
       "      <th>Cylinder_capacity</th>\n",
       "      <th>Value_vehicle</th>\n",
       "      <th>N_doors</th>\n",
       "      <th>Type_fuel</th>\n",
       "      <th>Weight</th>\n",
       "      <th>Cluster</th>\n",
       "    </tr>\n",
       "  </thead>\n",
       "  <tbody>\n",
       "    <tr>\n",
       "      <th>count</th>\n",
       "      <td>39802.000000</td>\n",
       "      <td>39802.000000</td>\n",
       "      <td>39802.000000</td>\n",
       "      <td>39802.000000</td>\n",
       "      <td>39802.000000</td>\n",
       "      <td>39802.000000</td>\n",
       "      <td>39802.000000</td>\n",
       "      <td>39802.000000</td>\n",
       "    </tr>\n",
       "    <tr>\n",
       "      <th>mean</th>\n",
       "      <td>6.394352</td>\n",
       "      <td>96.445631</td>\n",
       "      <td>1647.587935</td>\n",
       "      <td>19223.823407</td>\n",
       "      <td>4.114416</td>\n",
       "      <td>1.614693</td>\n",
       "      <td>1218.554344</td>\n",
       "      <td>1.595699</td>\n",
       "    </tr>\n",
       "    <tr>\n",
       "      <th>std</th>\n",
       "      <td>6.269033</td>\n",
       "      <td>36.841635</td>\n",
       "      <td>582.633198</td>\n",
       "      <td>9594.815367</td>\n",
       "      <td>1.421487</td>\n",
       "      <td>0.486674</td>\n",
       "      <td>424.344352</td>\n",
       "      <td>0.612426</td>\n",
       "    </tr>\n",
       "    <tr>\n",
       "      <th>min</th>\n",
       "      <td>1.000000</td>\n",
       "      <td>4.000000</td>\n",
       "      <td>49.000000</td>\n",
       "      <td>270.460000</td>\n",
       "      <td>0.000000</td>\n",
       "      <td>1.000000</td>\n",
       "      <td>50.000000</td>\n",
       "      <td>0.000000</td>\n",
       "    </tr>\n",
       "    <tr>\n",
       "      <th>25%</th>\n",
       "      <td>2.000000</td>\n",
       "      <td>75.000000</td>\n",
       "      <td>1390.000000</td>\n",
       "      <td>13540.810000</td>\n",
       "      <td>3.000000</td>\n",
       "      <td>1.000000</td>\n",
       "      <td>1060.000000</td>\n",
       "      <td>1.000000</td>\n",
       "    </tr>\n",
       "    <tr>\n",
       "      <th>50%</th>\n",
       "      <td>4.000000</td>\n",
       "      <td>95.000000</td>\n",
       "      <td>1598.000000</td>\n",
       "      <td>18194.000000</td>\n",
       "      <td>5.000000</td>\n",
       "      <td>2.000000</td>\n",
       "      <td>1228.000000</td>\n",
       "      <td>2.000000</td>\n",
       "    </tr>\n",
       "    <tr>\n",
       "      <th>75%</th>\n",
       "      <td>8.000000</td>\n",
       "      <td>115.000000</td>\n",
       "      <td>1968.000000</td>\n",
       "      <td>23474.150000</td>\n",
       "      <td>5.000000</td>\n",
       "      <td>2.000000</td>\n",
       "      <td>1410.000000</td>\n",
       "      <td>2.000000</td>\n",
       "    </tr>\n",
       "    <tr>\n",
       "      <th>max</th>\n",
       "      <td>40.000000</td>\n",
       "      <td>580.000000</td>\n",
       "      <td>7480.000000</td>\n",
       "      <td>220675.800000</td>\n",
       "      <td>6.000000</td>\n",
       "      <td>2.000000</td>\n",
       "      <td>7300.000000</td>\n",
       "      <td>2.000000</td>\n",
       "    </tr>\n",
       "  </tbody>\n",
       "</table>\n",
       "</div>"
      ],
      "text/plain": [
       "          Seniority         Power  Cylinder_capacity  Value_vehicle  \\\n",
       "count  39802.000000  39802.000000       39802.000000   39802.000000   \n",
       "mean       6.394352     96.445631        1647.587935   19223.823407   \n",
       "std        6.269033     36.841635         582.633198    9594.815367   \n",
       "min        1.000000      4.000000          49.000000     270.460000   \n",
       "25%        2.000000     75.000000        1390.000000   13540.810000   \n",
       "50%        4.000000     95.000000        1598.000000   18194.000000   \n",
       "75%        8.000000    115.000000        1968.000000   23474.150000   \n",
       "max       40.000000    580.000000        7480.000000  220675.800000   \n",
       "\n",
       "            N_doors     Type_fuel        Weight       Cluster  \n",
       "count  39802.000000  39802.000000  39802.000000  39802.000000  \n",
       "mean       4.114416      1.614693   1218.554344      1.595699  \n",
       "std        1.421487      0.486674    424.344352      0.612426  \n",
       "min        0.000000      1.000000     50.000000      0.000000  \n",
       "25%        3.000000      1.000000   1060.000000      1.000000  \n",
       "50%        5.000000      2.000000   1228.000000      2.000000  \n",
       "75%        5.000000      2.000000   1410.000000      2.000000  \n",
       "max        6.000000      2.000000   7300.000000      2.000000  "
      ]
     },
     "execution_count": 27,
     "metadata": {},
     "output_type": "execute_result"
    }
   ],
   "source": [
    "insurance.describe()"
   ]
  },
  {
   "cell_type": "code",
   "execution_count": 28,
   "id": "fc78d171-4c35-4039-a051-934e5ccaff6e",
   "metadata": {},
   "outputs": [
    {
     "data": {
      "text/plain": [
       "Cluster\n",
       "0    2671\n",
       "1    2671\n",
       "2    2671\n",
       "Name: count, dtype: int64"
      ]
     },
     "execution_count": 28,
     "metadata": {},
     "output_type": "execute_result"
    }
   ],
   "source": [
    "balanced_insurance['Cluster'].value_counts()"
   ]
  },
  {
   "cell_type": "markdown",
   "id": "0b070da5-bffe-4075-8583-6c4bdf2f186d",
   "metadata": {},
   "source": [
    "# exploring data"
   ]
  },
  {
   "cell_type": "code",
   "execution_count": null,
   "id": "3ec76550-ebde-45b1-9760-f95157a44317",
   "metadata": {},
   "outputs": [],
   "source": []
  }
 ],
 "metadata": {
  "kernelspec": {
   "display_name": "Python 3 (ipykernel)",
   "language": "python",
   "name": "python3"
  },
  "language_info": {
   "codemirror_mode": {
    "name": "ipython",
    "version": 3
   },
   "file_extension": ".py",
   "mimetype": "text/x-python",
   "name": "python",
   "nbconvert_exporter": "python",
   "pygments_lexer": "ipython3",
   "version": "3.10.12"
  }
 },
 "nbformat": 4,
 "nbformat_minor": 5
}
