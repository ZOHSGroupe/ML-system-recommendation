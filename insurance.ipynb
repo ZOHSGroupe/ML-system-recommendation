{
 "cells": [
  {
   "cell_type": "code",
   "execution_count": 60,
   "id": "80e0f09c-d2b5-4105-b46f-b330a00c7a57",
   "metadata": {},
   "outputs": [],
   "source": [
    "import numpy as np\n",
    "import pandas as pd"
   ]
  },
  {
   "cell_type": "markdown",
   "id": "b03ee672-daff-4823-a1b1-b039fd7956c2",
   "metadata": {},
   "source": [
    "# Importing data"
   ]
  },
  {
   "cell_type": "code",
   "execution_count": 61,
   "id": "7e3f67f7-e69b-47c2-972e-900245fd28a4",
   "metadata": {},
   "outputs": [
    {
     "name": "stdout",
     "output_type": "stream",
     "text": [
      "insurance.csv  insurance.ipynb  README.md  requierments.txt\n"
     ]
    }
   ],
   "source": [
    "ls\n"
   ]
  },
  {
   "cell_type": "code",
   "execution_count": 62,
   "id": "397f5549-81d7-46b7-a083-132c3bf2816c",
   "metadata": {},
   "outputs": [
    {
     "name": "stderr",
     "output_type": "stream",
     "text": [
      "/tmp/ipykernel_21551/1101451641.py:1: DtypeWarning: Columns (6) have mixed types. Specify dtype option on import or set low_memory=False.\n",
      "  insurance = pd.read_csv('insurance.csv', sep=';')\n"
     ]
    },
    {
     "data": {
      "text/html": [
       "<div>\n",
       "<style scoped>\n",
       "    .dataframe tbody tr th:only-of-type {\n",
       "        vertical-align: middle;\n",
       "    }\n",
       "\n",
       "    .dataframe tbody tr th {\n",
       "        vertical-align: top;\n",
       "    }\n",
       "\n",
       "    .dataframe thead th {\n",
       "        text-align: right;\n",
       "    }\n",
       "</style>\n",
       "<table border=\"1\" class=\"dataframe\">\n",
       "  <thead>\n",
       "    <tr style=\"text-align: right;\">\n",
       "      <th></th>\n",
       "      <th>ID</th>\n",
       "      <th>Date_start_contract</th>\n",
       "      <th>Date_last_renewal</th>\n",
       "      <th>Date_next_renewal</th>\n",
       "      <th>Date_birth</th>\n",
       "      <th>Date_driving_licence</th>\n",
       "      <th>Distribution_channel</th>\n",
       "      <th>Seniority</th>\n",
       "      <th>Policies_in_force</th>\n",
       "      <th>Max_policies</th>\n",
       "      <th>...</th>\n",
       "      <th>Area</th>\n",
       "      <th>Second_driver</th>\n",
       "      <th>Year_matriculation</th>\n",
       "      <th>Power</th>\n",
       "      <th>Cylinder_capacity</th>\n",
       "      <th>Value_vehicle</th>\n",
       "      <th>N_doors</th>\n",
       "      <th>Type_fuel</th>\n",
       "      <th>Length</th>\n",
       "      <th>Weight</th>\n",
       "    </tr>\n",
       "  </thead>\n",
       "  <tbody>\n",
       "    <tr>\n",
       "      <th>0</th>\n",
       "      <td>1</td>\n",
       "      <td>05/11/2015</td>\n",
       "      <td>05/11/2015</td>\n",
       "      <td>05/11/2016</td>\n",
       "      <td>15/04/1956</td>\n",
       "      <td>20/03/1976</td>\n",
       "      <td>0</td>\n",
       "      <td>4</td>\n",
       "      <td>1</td>\n",
       "      <td>2</td>\n",
       "      <td>...</td>\n",
       "      <td>0</td>\n",
       "      <td>0</td>\n",
       "      <td>2004</td>\n",
       "      <td>80</td>\n",
       "      <td>599</td>\n",
       "      <td>7068.0</td>\n",
       "      <td>0</td>\n",
       "      <td>P</td>\n",
       "      <td>NaN</td>\n",
       "      <td>190</td>\n",
       "    </tr>\n",
       "    <tr>\n",
       "      <th>1</th>\n",
       "      <td>1</td>\n",
       "      <td>05/11/2015</td>\n",
       "      <td>05/11/2016</td>\n",
       "      <td>05/11/2017</td>\n",
       "      <td>15/04/1956</td>\n",
       "      <td>20/03/1976</td>\n",
       "      <td>0</td>\n",
       "      <td>4</td>\n",
       "      <td>1</td>\n",
       "      <td>2</td>\n",
       "      <td>...</td>\n",
       "      <td>0</td>\n",
       "      <td>0</td>\n",
       "      <td>2004</td>\n",
       "      <td>80</td>\n",
       "      <td>599</td>\n",
       "      <td>7068.0</td>\n",
       "      <td>0</td>\n",
       "      <td>P</td>\n",
       "      <td>NaN</td>\n",
       "      <td>190</td>\n",
       "    </tr>\n",
       "    <tr>\n",
       "      <th>2</th>\n",
       "      <td>1</td>\n",
       "      <td>05/11/2015</td>\n",
       "      <td>05/11/2017</td>\n",
       "      <td>05/11/2018</td>\n",
       "      <td>15/04/1956</td>\n",
       "      <td>20/03/1976</td>\n",
       "      <td>0</td>\n",
       "      <td>4</td>\n",
       "      <td>2</td>\n",
       "      <td>2</td>\n",
       "      <td>...</td>\n",
       "      <td>0</td>\n",
       "      <td>0</td>\n",
       "      <td>2004</td>\n",
       "      <td>80</td>\n",
       "      <td>599</td>\n",
       "      <td>7068.0</td>\n",
       "      <td>0</td>\n",
       "      <td>P</td>\n",
       "      <td>NaN</td>\n",
       "      <td>190</td>\n",
       "    </tr>\n",
       "    <tr>\n",
       "      <th>3</th>\n",
       "      <td>1</td>\n",
       "      <td>05/11/2015</td>\n",
       "      <td>05/11/2018</td>\n",
       "      <td>05/11/2019</td>\n",
       "      <td>15/04/1956</td>\n",
       "      <td>20/03/1976</td>\n",
       "      <td>0</td>\n",
       "      <td>4</td>\n",
       "      <td>2</td>\n",
       "      <td>2</td>\n",
       "      <td>...</td>\n",
       "      <td>0</td>\n",
       "      <td>0</td>\n",
       "      <td>2004</td>\n",
       "      <td>80</td>\n",
       "      <td>599</td>\n",
       "      <td>7068.0</td>\n",
       "      <td>0</td>\n",
       "      <td>P</td>\n",
       "      <td>NaN</td>\n",
       "      <td>190</td>\n",
       "    </tr>\n",
       "    <tr>\n",
       "      <th>4</th>\n",
       "      <td>2</td>\n",
       "      <td>26/09/2017</td>\n",
       "      <td>26/09/2017</td>\n",
       "      <td>26/09/2018</td>\n",
       "      <td>15/04/1956</td>\n",
       "      <td>20/03/1976</td>\n",
       "      <td>0</td>\n",
       "      <td>4</td>\n",
       "      <td>2</td>\n",
       "      <td>2</td>\n",
       "      <td>...</td>\n",
       "      <td>0</td>\n",
       "      <td>0</td>\n",
       "      <td>2004</td>\n",
       "      <td>80</td>\n",
       "      <td>599</td>\n",
       "      <td>7068.0</td>\n",
       "      <td>0</td>\n",
       "      <td>P</td>\n",
       "      <td>NaN</td>\n",
       "      <td>190</td>\n",
       "    </tr>\n",
       "  </tbody>\n",
       "</table>\n",
       "<p>5 rows × 30 columns</p>\n",
       "</div>"
      ],
      "text/plain": [
       "   ID Date_start_contract Date_last_renewal Date_next_renewal  Date_birth  \\\n",
       "0   1          05/11/2015        05/11/2015        05/11/2016  15/04/1956   \n",
       "1   1          05/11/2015        05/11/2016        05/11/2017  15/04/1956   \n",
       "2   1          05/11/2015        05/11/2017        05/11/2018  15/04/1956   \n",
       "3   1          05/11/2015        05/11/2018        05/11/2019  15/04/1956   \n",
       "4   2          26/09/2017        26/09/2017        26/09/2018  15/04/1956   \n",
       "\n",
       "  Date_driving_licence Distribution_channel  Seniority  Policies_in_force  \\\n",
       "0           20/03/1976                    0          4                  1   \n",
       "1           20/03/1976                    0          4                  1   \n",
       "2           20/03/1976                    0          4                  2   \n",
       "3           20/03/1976                    0          4                  2   \n",
       "4           20/03/1976                    0          4                  2   \n",
       "\n",
       "   Max_policies  ...  Area  Second_driver Year_matriculation  Power  \\\n",
       "0             2  ...     0              0               2004     80   \n",
       "1             2  ...     0              0               2004     80   \n",
       "2             2  ...     0              0               2004     80   \n",
       "3             2  ...     0              0               2004     80   \n",
       "4             2  ...     0              0               2004     80   \n",
       "\n",
       "   Cylinder_capacity  Value_vehicle  N_doors  Type_fuel  Length  Weight  \n",
       "0                599         7068.0        0          P     NaN     190  \n",
       "1                599         7068.0        0          P     NaN     190  \n",
       "2                599         7068.0        0          P     NaN     190  \n",
       "3                599         7068.0        0          P     NaN     190  \n",
       "4                599         7068.0        0          P     NaN     190  \n",
       "\n",
       "[5 rows x 30 columns]"
      ]
     },
     "execution_count": 62,
     "metadata": {},
     "output_type": "execute_result"
    }
   ],
   "source": [
    "insurance = pd.read_csv('insurance.csv', sep=';')\n",
    "insurance.head()"
   ]
  },
  {
   "cell_type": "markdown",
   "id": "f532028a-d828-4fc5-ab03-088b340e1713",
   "metadata": {},
   "source": [
    "# Data preparation"
   ]
  },
  {
   "cell_type": "code",
   "execution_count": 63,
   "id": "b3b18ce5-f348-4dcb-ab1c-4f81bbfa12e5",
   "metadata": {},
   "outputs": [
    {
     "data": {
      "text/plain": [
       "Index(['ID', 'Date_start_contract', 'Date_last_renewal', 'Date_next_renewal',\n",
       "       'Date_birth', 'Date_driving_licence', 'Distribution_channel',\n",
       "       'Seniority', 'Policies_in_force', 'Max_policies', 'Max_products',\n",
       "       'Lapse', 'Date_lapse', 'Payment', 'Premium', 'Cost_claims_year',\n",
       "       'N_claims_year', 'N_claims_history', 'R_Claims_history', 'Type_risk',\n",
       "       'Area', 'Second_driver', 'Year_matriculation', 'Power',\n",
       "       'Cylinder_capacity', 'Value_vehicle', 'N_doors', 'Type_fuel', 'Length',\n",
       "       'Weight'],\n",
       "      dtype='object')"
      ]
     },
     "execution_count": 63,
     "metadata": {},
     "output_type": "execute_result"
    }
   ],
   "source": [
    "insurance.columns"
   ]
  },
  {
   "cell_type": "code",
   "execution_count": 64,
   "id": "8ef58964-26ec-4edc-9a18-374c3fbc5ef0",
   "metadata": {},
   "outputs": [],
   "source": [
    "columns_to_drops = ['ID', 'Date_start_contract', 'Date_last_renewal', 'Date_next_renewal', 'Date_birth', 'Date_driving_licence','Distribution_channel', 'Policies_in_force','Max_policies', 'Max_products','Date_lapse', 'Lapse', 'Payment', 'Premium', 'Cost_claims_year',\n",
    "       'N_claims_year', 'N_claims_history', 'R_Claims_history', 'Area', 'Second_driver', 'Year_matriculation', 'Length'   ]"
   ]
  },
  {
   "cell_type": "code",
   "execution_count": 65,
   "id": "74af0281-512f-4a9f-8fef-b6e182c4601f",
   "metadata": {},
   "outputs": [],
   "source": [
    "insurance = insurance.drop(columns= columns_to_drops, axis=1)"
   ]
  },
  {
   "cell_type": "code",
   "execution_count": 66,
   "id": "9b622c01-1523-46e7-98eb-b196994aa022",
   "metadata": {},
   "outputs": [
    {
     "data": {
      "text/html": [
       "<div>\n",
       "<style scoped>\n",
       "    .dataframe tbody tr th:only-of-type {\n",
       "        vertical-align: middle;\n",
       "    }\n",
       "\n",
       "    .dataframe tbody tr th {\n",
       "        vertical-align: top;\n",
       "    }\n",
       "\n",
       "    .dataframe thead th {\n",
       "        text-align: right;\n",
       "    }\n",
       "</style>\n",
       "<table border=\"1\" class=\"dataframe\">\n",
       "  <thead>\n",
       "    <tr style=\"text-align: right;\">\n",
       "      <th></th>\n",
       "      <th>Seniority</th>\n",
       "      <th>Type_risk</th>\n",
       "      <th>Power</th>\n",
       "      <th>Cylinder_capacity</th>\n",
       "      <th>Value_vehicle</th>\n",
       "      <th>N_doors</th>\n",
       "      <th>Type_fuel</th>\n",
       "      <th>Weight</th>\n",
       "    </tr>\n",
       "  </thead>\n",
       "  <tbody>\n",
       "    <tr>\n",
       "      <th>0</th>\n",
       "      <td>4</td>\n",
       "      <td>1</td>\n",
       "      <td>80</td>\n",
       "      <td>599</td>\n",
       "      <td>7068.0</td>\n",
       "      <td>0</td>\n",
       "      <td>P</td>\n",
       "      <td>190</td>\n",
       "    </tr>\n",
       "    <tr>\n",
       "      <th>1</th>\n",
       "      <td>4</td>\n",
       "      <td>1</td>\n",
       "      <td>80</td>\n",
       "      <td>599</td>\n",
       "      <td>7068.0</td>\n",
       "      <td>0</td>\n",
       "      <td>P</td>\n",
       "      <td>190</td>\n",
       "    </tr>\n",
       "    <tr>\n",
       "      <th>2</th>\n",
       "      <td>4</td>\n",
       "      <td>1</td>\n",
       "      <td>80</td>\n",
       "      <td>599</td>\n",
       "      <td>7068.0</td>\n",
       "      <td>0</td>\n",
       "      <td>P</td>\n",
       "      <td>190</td>\n",
       "    </tr>\n",
       "    <tr>\n",
       "      <th>3</th>\n",
       "      <td>4</td>\n",
       "      <td>1</td>\n",
       "      <td>80</td>\n",
       "      <td>599</td>\n",
       "      <td>7068.0</td>\n",
       "      <td>0</td>\n",
       "      <td>P</td>\n",
       "      <td>190</td>\n",
       "    </tr>\n",
       "    <tr>\n",
       "      <th>4</th>\n",
       "      <td>4</td>\n",
       "      <td>1</td>\n",
       "      <td>80</td>\n",
       "      <td>599</td>\n",
       "      <td>7068.0</td>\n",
       "      <td>0</td>\n",
       "      <td>P</td>\n",
       "      <td>190</td>\n",
       "    </tr>\n",
       "  </tbody>\n",
       "</table>\n",
       "</div>"
      ],
      "text/plain": [
       "   Seniority  Type_risk  Power  Cylinder_capacity  Value_vehicle  N_doors  \\\n",
       "0          4          1     80                599         7068.0        0   \n",
       "1          4          1     80                599         7068.0        0   \n",
       "2          4          1     80                599         7068.0        0   \n",
       "3          4          1     80                599         7068.0        0   \n",
       "4          4          1     80                599         7068.0        0   \n",
       "\n",
       "  Type_fuel  Weight  \n",
       "0         P     190  \n",
       "1         P     190  \n",
       "2         P     190  \n",
       "3         P     190  \n",
       "4         P     190  "
      ]
     },
     "execution_count": 66,
     "metadata": {},
     "output_type": "execute_result"
    }
   ],
   "source": [
    "insurance.head()"
   ]
  },
  {
   "cell_type": "markdown",
   "id": "363c3d28-c813-4509-8020-54aca50f5425",
   "metadata": {},
   "source": [
    "# Data Information"
   ]
  },
  {
   "cell_type": "code",
   "execution_count": 67,
   "id": "a4ebbc96-d749-4826-b7f2-eeb0f8c4a00c",
   "metadata": {},
   "outputs": [
    {
     "data": {
      "text/plain": [
       "(105555, 8)"
      ]
     },
     "execution_count": 67,
     "metadata": {},
     "output_type": "execute_result"
    }
   ],
   "source": [
    "insurance.shape"
   ]
  },
  {
   "cell_type": "code",
   "execution_count": 68,
   "id": "8943e65b-377d-4fe6-aa80-70d6d6bb9a55",
   "metadata": {},
   "outputs": [
    {
     "name": "stdout",
     "output_type": "stream",
     "text": [
      "<class 'pandas.core.frame.DataFrame'>\n",
      "RangeIndex: 105555 entries, 0 to 105554\n",
      "Data columns (total 8 columns):\n",
      " #   Column             Non-Null Count   Dtype  \n",
      "---  ------             --------------   -----  \n",
      " 0   Seniority          105555 non-null  int64  \n",
      " 1   Type_risk          105555 non-null  int64  \n",
      " 2   Power              105555 non-null  int64  \n",
      " 3   Cylinder_capacity  105555 non-null  int64  \n",
      " 4   Value_vehicle      105555 non-null  float64\n",
      " 5   N_doors            105555 non-null  int64  \n",
      " 6   Type_fuel          103791 non-null  object \n",
      " 7   Weight             105555 non-null  int64  \n",
      "dtypes: float64(1), int64(6), object(1)\n",
      "memory usage: 6.4+ MB\n"
     ]
    }
   ],
   "source": [
    "insurance.info()"
   ]
  },
  {
   "cell_type": "code",
   "execution_count": 69,
   "id": "be391873-9acf-4214-8a4e-cd925c455e7b",
   "metadata": {},
   "outputs": [
    {
     "data": {
      "text/plain": [
       "Seniority               0\n",
       "Type_risk               0\n",
       "Power                   0\n",
       "Cylinder_capacity       0\n",
       "Value_vehicle           0\n",
       "N_doors                 0\n",
       "Type_fuel            1764\n",
       "Weight                  0\n",
       "dtype: int64"
      ]
     },
     "execution_count": 69,
     "metadata": {},
     "output_type": "execute_result"
    }
   ],
   "source": [
    "insurance.isnull().sum()"
   ]
  },
  {
   "cell_type": "code",
   "execution_count": 70,
   "id": "247cdf9b-f6af-4190-921e-9470cd309004",
   "metadata": {},
   "outputs": [
    {
     "data": {
      "text/plain": [
       "64933"
      ]
     },
     "execution_count": 70,
     "metadata": {},
     "output_type": "execute_result"
    }
   ],
   "source": [
    "insurance.duplicated().sum()"
   ]
  },
  {
   "cell_type": "code",
   "execution_count": 71,
   "id": "2fa1657d-624c-44bc-b9d7-c15d2ae839f0",
   "metadata": {},
   "outputs": [
    {
     "data": {
      "text/html": [
       "<div>\n",
       "<style scoped>\n",
       "    .dataframe tbody tr th:only-of-type {\n",
       "        vertical-align: middle;\n",
       "    }\n",
       "\n",
       "    .dataframe tbody tr th {\n",
       "        vertical-align: top;\n",
       "    }\n",
       "\n",
       "    .dataframe thead th {\n",
       "        text-align: right;\n",
       "    }\n",
       "</style>\n",
       "<table border=\"1\" class=\"dataframe\">\n",
       "  <thead>\n",
       "    <tr style=\"text-align: right;\">\n",
       "      <th></th>\n",
       "      <th>Seniority</th>\n",
       "      <th>Type_risk</th>\n",
       "      <th>Power</th>\n",
       "      <th>Cylinder_capacity</th>\n",
       "      <th>Value_vehicle</th>\n",
       "      <th>N_doors</th>\n",
       "      <th>Weight</th>\n",
       "    </tr>\n",
       "  </thead>\n",
       "  <tbody>\n",
       "    <tr>\n",
       "      <th>count</th>\n",
       "      <td>105555.000000</td>\n",
       "      <td>105555.000000</td>\n",
       "      <td>105555.000000</td>\n",
       "      <td>105555.000000</td>\n",
       "      <td>105555.000000</td>\n",
       "      <td>105555.000000</td>\n",
       "      <td>105555.000000</td>\n",
       "    </tr>\n",
       "    <tr>\n",
       "      <th>mean</th>\n",
       "      <td>6.696604</td>\n",
       "      <td>2.721804</td>\n",
       "      <td>92.682611</td>\n",
       "      <td>1617.759367</td>\n",
       "      <td>18413.657243</td>\n",
       "      <td>4.067898</td>\n",
       "      <td>1191.262422</td>\n",
       "    </tr>\n",
       "    <tr>\n",
       "      <th>std</th>\n",
       "      <td>6.263911</td>\n",
       "      <td>0.614835</td>\n",
       "      <td>37.012645</td>\n",
       "      <td>604.697382</td>\n",
       "      <td>9135.074235</td>\n",
       "      <td>1.511839</td>\n",
       "      <td>458.081834</td>\n",
       "    </tr>\n",
       "    <tr>\n",
       "      <th>min</th>\n",
       "      <td>1.000000</td>\n",
       "      <td>1.000000</td>\n",
       "      <td>0.000000</td>\n",
       "      <td>49.000000</td>\n",
       "      <td>270.460000</td>\n",
       "      <td>0.000000</td>\n",
       "      <td>43.000000</td>\n",
       "    </tr>\n",
       "    <tr>\n",
       "      <th>25%</th>\n",
       "      <td>3.000000</td>\n",
       "      <td>3.000000</td>\n",
       "      <td>75.000000</td>\n",
       "      <td>1390.000000</td>\n",
       "      <td>13127.210000</td>\n",
       "      <td>3.000000</td>\n",
       "      <td>1043.000000</td>\n",
       "    </tr>\n",
       "    <tr>\n",
       "      <th>50%</th>\n",
       "      <td>4.000000</td>\n",
       "      <td>3.000000</td>\n",
       "      <td>90.000000</td>\n",
       "      <td>1598.000000</td>\n",
       "      <td>17608.770000</td>\n",
       "      <td>5.000000</td>\n",
       "      <td>1205.000000</td>\n",
       "    </tr>\n",
       "    <tr>\n",
       "      <th>75%</th>\n",
       "      <td>9.000000</td>\n",
       "      <td>3.000000</td>\n",
       "      <td>110.000000</td>\n",
       "      <td>1910.000000</td>\n",
       "      <td>22595.000000</td>\n",
       "      <td>5.000000</td>\n",
       "      <td>1388.000000</td>\n",
       "    </tr>\n",
       "    <tr>\n",
       "      <th>max</th>\n",
       "      <td>40.000000</td>\n",
       "      <td>4.000000</td>\n",
       "      <td>580.000000</td>\n",
       "      <td>7480.000000</td>\n",
       "      <td>220675.800000</td>\n",
       "      <td>6.000000</td>\n",
       "      <td>7300.000000</td>\n",
       "    </tr>\n",
       "  </tbody>\n",
       "</table>\n",
       "</div>"
      ],
      "text/plain": [
       "           Seniority      Type_risk          Power  Cylinder_capacity  \\\n",
       "count  105555.000000  105555.000000  105555.000000      105555.000000   \n",
       "mean        6.696604       2.721804      92.682611        1617.759367   \n",
       "std         6.263911       0.614835      37.012645         604.697382   \n",
       "min         1.000000       1.000000       0.000000          49.000000   \n",
       "25%         3.000000       3.000000      75.000000        1390.000000   \n",
       "50%         4.000000       3.000000      90.000000        1598.000000   \n",
       "75%         9.000000       3.000000     110.000000        1910.000000   \n",
       "max        40.000000       4.000000     580.000000        7480.000000   \n",
       "\n",
       "       Value_vehicle        N_doors         Weight  \n",
       "count  105555.000000  105555.000000  105555.000000  \n",
       "mean    18413.657243       4.067898    1191.262422  \n",
       "std      9135.074235       1.511839     458.081834  \n",
       "min       270.460000       0.000000      43.000000  \n",
       "25%     13127.210000       3.000000    1043.000000  \n",
       "50%     17608.770000       5.000000    1205.000000  \n",
       "75%     22595.000000       5.000000    1388.000000  \n",
       "max    220675.800000       6.000000    7300.000000  "
      ]
     },
     "execution_count": 71,
     "metadata": {},
     "output_type": "execute_result"
    }
   ],
   "source": [
    "insurance.describe()"
   ]
  },
  {
   "cell_type": "markdown",
   "id": "50830ea4-94ba-49fe-a9d9-1c71ac5e0302",
   "metadata": {},
   "source": [
    "# Data Preprocessing"
   ]
  },
  {
   "cell_type": "markdown",
   "id": "6e2acd94-3aa3-465a-9f10-3f392317efef",
   "metadata": {},
   "source": [
    "## drop duplicated data"
   ]
  },
  {
   "cell_type": "code",
   "execution_count": 72,
   "id": "d111cd52-b800-4eca-ba1b-1177a17148d3",
   "metadata": {},
   "outputs": [],
   "source": [
    "insurance.drop_duplicates(inplace=True)"
   ]
  },
  {
   "cell_type": "code",
   "execution_count": 73,
   "id": "1826866f-3451-4177-acb9-ddf28a8c4429",
   "metadata": {},
   "outputs": [
    {
     "data": {
      "text/plain": [
       "(40622, 8)"
      ]
     },
     "execution_count": 73,
     "metadata": {},
     "output_type": "execute_result"
    }
   ],
   "source": [
    "insurance.shape"
   ]
  },
  {
   "cell_type": "code",
   "execution_count": 74,
   "id": "efba3c49-25fc-454a-8cb4-64fb46ecc735",
   "metadata": {},
   "outputs": [
    {
     "data": {
      "text/plain": [
       "0"
      ]
     },
     "execution_count": 74,
     "metadata": {},
     "output_type": "execute_result"
    }
   ],
   "source": [
    "insurance.duplicated().sum()"
   ]
  },
  {
   "cell_type": "markdown",
   "id": "e99ee905-2e4b-45f0-9e78-a8a1aef39de1",
   "metadata": {},
   "source": [
    "## drop if exist  null data"
   ]
  },
  {
   "cell_type": "code",
   "execution_count": 75,
   "id": "bc97a237-771f-4b7f-9d65-1c9b244a0cbd",
   "metadata": {},
   "outputs": [],
   "source": [
    "insurance = insurance.dropna()"
   ]
  },
  {
   "cell_type": "code",
   "execution_count": 76,
   "id": "9017d48d-e6d2-4c94-81fb-64ac373193fa",
   "metadata": {},
   "outputs": [
    {
     "data": {
      "text/plain": [
       "(39806, 8)"
      ]
     },
     "execution_count": 76,
     "metadata": {},
     "output_type": "execute_result"
    }
   ],
   "source": [
    "insurance.shape"
   ]
  },
  {
   "cell_type": "code",
   "execution_count": 77,
   "id": "013e43d9-acb3-472d-8dce-ad9809ac1a22",
   "metadata": {},
   "outputs": [
    {
     "data": {
      "text/plain": [
       "Seniority            0\n",
       "Type_risk            0\n",
       "Power                0\n",
       "Cylinder_capacity    0\n",
       "Value_vehicle        0\n",
       "N_doors              0\n",
       "Type_fuel            0\n",
       "Weight               0\n",
       "dtype: int64"
      ]
     },
     "execution_count": 77,
     "metadata": {},
     "output_type": "execute_result"
    }
   ],
   "source": [
    "insurance.isnull().sum()"
   ]
  },
  {
   "cell_type": "code",
   "execution_count": 78,
   "id": "19216306-b6b1-4992-84f6-530326d4ac25",
   "metadata": {},
   "outputs": [
    {
     "data": {
      "text/plain": [
       "(39806, 8)"
      ]
     },
     "execution_count": 78,
     "metadata": {},
     "output_type": "execute_result"
    }
   ],
   "source": [
    "insurance.shape"
   ]
  },
  {
   "cell_type": "markdown",
   "id": "68248626-bef4-46c2-b5be-43b9fe7e0d94",
   "metadata": {},
   "source": [
    "# Encoding"
   ]
  },
  {
   "cell_type": "code",
   "execution_count": 79,
   "id": "d0acf901-86c7-403c-8603-7f693984e44b",
   "metadata": {},
   "outputs": [],
   "source": [
    "insurance_type = {\n",
    "    'P':1,\n",
    "    'D':2\n",
    "}\n"
   ]
  },
  {
   "cell_type": "code",
   "execution_count": 80,
   "id": "6a69db6e-3fb9-4cd7-852e-99dd9330bb83",
   "metadata": {},
   "outputs": [],
   "source": [
    "insurance['Type_fuel'] = insurance['Type_fuel'].map(insurance_type)"
   ]
  },
  {
   "cell_type": "code",
   "execution_count": 81,
   "id": "e27ccc19-1c9b-45a1-8563-3f75024bdfaf",
   "metadata": {},
   "outputs": [
    {
     "data": {
      "text/html": [
       "<div>\n",
       "<style scoped>\n",
       "    .dataframe tbody tr th:only-of-type {\n",
       "        vertical-align: middle;\n",
       "    }\n",
       "\n",
       "    .dataframe tbody tr th {\n",
       "        vertical-align: top;\n",
       "    }\n",
       "\n",
       "    .dataframe thead th {\n",
       "        text-align: right;\n",
       "    }\n",
       "</style>\n",
       "<table border=\"1\" class=\"dataframe\">\n",
       "  <thead>\n",
       "    <tr style=\"text-align: right;\">\n",
       "      <th></th>\n",
       "      <th>Seniority</th>\n",
       "      <th>Type_risk</th>\n",
       "      <th>Power</th>\n",
       "      <th>Cylinder_capacity</th>\n",
       "      <th>Value_vehicle</th>\n",
       "      <th>N_doors</th>\n",
       "      <th>Type_fuel</th>\n",
       "      <th>Weight</th>\n",
       "    </tr>\n",
       "  </thead>\n",
       "  <tbody>\n",
       "    <tr>\n",
       "      <th>0</th>\n",
       "      <td>4</td>\n",
       "      <td>1</td>\n",
       "      <td>80</td>\n",
       "      <td>599</td>\n",
       "      <td>7068.00</td>\n",
       "      <td>0</td>\n",
       "      <td>1</td>\n",
       "      <td>190</td>\n",
       "    </tr>\n",
       "    <tr>\n",
       "      <th>6</th>\n",
       "      <td>15</td>\n",
       "      <td>3</td>\n",
       "      <td>85</td>\n",
       "      <td>1229</td>\n",
       "      <td>16030.00</td>\n",
       "      <td>5</td>\n",
       "      <td>1</td>\n",
       "      <td>1105</td>\n",
       "    </tr>\n",
       "    <tr>\n",
       "      <th>10</th>\n",
       "      <td>3</td>\n",
       "      <td>1</td>\n",
       "      <td>6</td>\n",
       "      <td>74</td>\n",
       "      <td>1261.82</td>\n",
       "      <td>0</td>\n",
       "      <td>1</td>\n",
       "      <td>87</td>\n",
       "    </tr>\n",
       "    <tr>\n",
       "      <th>13</th>\n",
       "      <td>3</td>\n",
       "      <td>1</td>\n",
       "      <td>6</td>\n",
       "      <td>244</td>\n",
       "      <td>3000.00</td>\n",
       "      <td>0</td>\n",
       "      <td>1</td>\n",
       "      <td>92</td>\n",
       "    </tr>\n",
       "    <tr>\n",
       "      <th>15</th>\n",
       "      <td>13</td>\n",
       "      <td>3</td>\n",
       "      <td>87</td>\n",
       "      <td>1598</td>\n",
       "      <td>9927.00</td>\n",
       "      <td>4</td>\n",
       "      <td>1</td>\n",
       "      <td>1055</td>\n",
       "    </tr>\n",
       "  </tbody>\n",
       "</table>\n",
       "</div>"
      ],
      "text/plain": [
       "    Seniority  Type_risk  Power  Cylinder_capacity  Value_vehicle  N_doors  \\\n",
       "0           4          1     80                599        7068.00        0   \n",
       "6          15          3     85               1229       16030.00        5   \n",
       "10          3          1      6                 74        1261.82        0   \n",
       "13          3          1      6                244        3000.00        0   \n",
       "15         13          3     87               1598        9927.00        4   \n",
       "\n",
       "    Type_fuel  Weight  \n",
       "0           1     190  \n",
       "6           1    1105  \n",
       "10          1      87  \n",
       "13          1      92  \n",
       "15          1    1055  "
      ]
     },
     "execution_count": 81,
     "metadata": {},
     "output_type": "execute_result"
    }
   ],
   "source": [
    "insurance.head()"
   ]
  },
  {
   "cell_type": "markdown",
   "id": "548f946a-b566-4420-9669-149c44b1543c",
   "metadata": {},
   "source": [
    "# Processing unbalanced Date"
   ]
  },
  {
   "cell_type": "code",
   "execution_count": 99,
   "id": "47273f66-3d46-47dd-bed5-990b1b1e87b5",
   "metadata": {},
   "outputs": [
    {
     "data": {
      "text/plain": [
       "Type_risk\n",
       "3    31581\n",
       "2     5410\n",
       "1     2582\n",
       "4      233\n",
       "Name: count, dtype: int64"
      ]
     },
     "execution_count": 99,
     "metadata": {},
     "output_type": "execute_result"
    }
   ],
   "source": [
    "insurance['Type_risk'].value_counts()"
   ]
  },
  {
   "cell_type": "code",
   "execution_count": 101,
   "id": "212e73cc-c87b-4572-94e0-b93ffb080763",
   "metadata": {},
   "outputs": [
    {
     "data": {
      "text/plain": [
       "1"
      ]
     },
     "execution_count": 101,
     "metadata": {},
     "output_type": "execute_result"
    }
   ],
   "source": []
  },
  {
   "cell_type": "markdown",
   "id": "2947f620-ee6e-48b4-8b7e-31d2cea5ac56",
   "metadata": {},
   "source": [
    "# Exploring DATA"
   ]
  },
  {
   "cell_type": "code",
   "execution_count": 83,
   "id": "b4aedd50-b0bc-4456-a8c4-30b878ade49a",
   "metadata": {},
   "outputs": [],
   "source": [
    "import matplotlib.pyplot as plt\n",
    "import seaborn as sns"
   ]
  },
  {
   "cell_type": "code",
   "execution_count": 84,
   "id": "0058241b-f3ec-4a6f-8d5d-647d5440f6ec",
   "metadata": {},
   "outputs": [],
   "source": [
    "# X = insurance['Type_risk']\n",
    "# Y = insurance['Power']\n",
    "# plt.scatter(X,Y,marker=',',color = 'red')"
   ]
  },
  {
   "cell_type": "code",
   "execution_count": 88,
   "id": "3d66c128-3fec-41e5-80e2-7db9683c5e0f",
   "metadata": {},
   "outputs": [
    {
     "data": {
      "text/plain": [
       "<Axes: >"
      ]
     },
     "execution_count": 88,
     "metadata": {},
     "output_type": "execute_result"
    },
    {
     "data": {
      "image/png": "[encoded data removed]",
      "text/plain": [
       "<Figure size 640x480 with 2 Axes>"
      ]
     },
     "metadata": {},
     "output_type": "display_data"
    }
   ],
   "source": [
    "corr_feature = insurance.corr()\n",
    "sns.heatmap(corr_feature,annot=True,cbar=True, cmap='coolwarm')"
   ]
  },
  {
   "cell_type": "code",
   "execution_count": 89,
   "id": "4b9530c3-9c5d-4d74-bd44-111f0071983a",
   "metadata": {},
   "outputs": [
    {
     "name": "stderr",
     "output_type": "stream",
     "text": [
      "/tmp/ipykernel_21551/189941368.py:1: UserWarning: \n",
      "\n",
      "`distplot` is a deprecated function and will be removed in seaborn v0.14.0.\n",
      "\n",
      "Please adapt your code to use either `displot` (a figure-level function with\n",
      "similar flexibility) or `histplot` (an axes-level function for histograms).\n",
      "\n",
      "For a guide to updating your code to use the new functions, please see\n",
      "https://gist.github.com/mwaskom/de44147ed2974457ad6372750bbe5751\n",
      "\n",
      "  sns.distplot(insurance['Value_vehicle'])\n"
     ]
    },
    {
     "data": {
      "image/png": "[encoded data removed]",
      "text/plain": [
       "<Figure size 640x480 with 1 Axes>"
      ]
     },
     "metadata": {},
     "output_type": "display_data"
    }
   ],
   "source": [
    "sns.distplot(insurance['Value_vehicle'])\n",
    "plt.show()"
   ]
  },
  {
   "cell_type": "code",
   "execution_count": 90,
   "id": "86e313e0-bf1a-4d1f-a7fb-048ec2d1b8b6",
   "metadata": {},
   "outputs": [
    {
     "name": "stderr",
     "output_type": "stream",
     "text": [
      "/tmp/ipykernel_21551/1496202371.py:1: UserWarning: \n",
      "\n",
      "`distplot` is a deprecated function and will be removed in seaborn v0.14.0.\n",
      "\n",
      "Please adapt your code to use either `displot` (a figure-level function with\n",
      "similar flexibility) or `histplot` (an axes-level function for histograms).\n",
      "\n",
      "For a guide to updating your code to use the new functions, please see\n",
      "https://gist.github.com/mwaskom/de44147ed2974457ad6372750bbe5751\n",
      "\n",
      "  sns.distplot(insurance['Power'])\n"
     ]
    },
    {
     "data": {
      "image/png": "[encoded data removed]",
      "text/plain": [
       "<Figure size 640x480 with 1 Axes>"
      ]
     },
     "metadata": {},
     "output_type": "display_data"
    }
   ],
   "source": [
    "sns.distplot(insurance['Power'])\n",
    "plt.show()"
   ]
  },
  {
   "cell_type": "code",
   "execution_count": 91,
   "id": "65103d08-d937-4ef3-b537-3f6fa5ff66bb",
   "metadata": {},
   "outputs": [
    {
     "name": "stderr",
     "output_type": "stream",
     "text": [
      "/tmp/ipykernel_21551/3666333232.py:1: UserWarning: \n",
      "\n",
      "`distplot` is a deprecated function and will be removed in seaborn v0.14.0.\n",
      "\n",
      "Please adapt your code to use either `displot` (a figure-level function with\n",
      "similar flexibility) or `histplot` (an axes-level function for histograms).\n",
      "\n",
      "For a guide to updating your code to use the new functions, please see\n",
      "https://gist.github.com/mwaskom/de44147ed2974457ad6372750bbe5751\n",
      "\n",
      "  sns.distplot(insurance['Seniority'])\n"
     ]
    },
    {
     "data": {
      "image/png": "[encoded data removed]",
      "text/plain": [
       "<Figure size 640x480 with 1 Axes>"
      ]
     },
     "metadata": {},
     "output_type": "display_data"
    }
   ],
   "source": [
    "sns.distplot(insurance['Seniority'])\n",
    "plt.show()"
   ]
  },
  {
   "cell_type": "code",
   "execution_count": null,
   "id": "17743130-a8aa-49c2-9415-2bc90b08f551",
   "metadata": {},
   "outputs": [],
   "source": []
  }
 ],
 "metadata": {
  "kernelspec": {
   "display_name": "Python 3 (ipykernel)",
   "language": "python",
   "name": "python3"
  },
  "language_info": {
   "codemirror_mode": {
    "name": "ipython",
    "version": 3
   },
   "file_extension": ".py",
   "mimetype": "text/x-python",
   "name": "python",
   "nbconvert_exporter": "python",
   "pygments_lexer": "ipython3",
   "version": "3.10.12"
  }
 },
 "nbformat": 4,
 "nbformat_minor": 5
}
